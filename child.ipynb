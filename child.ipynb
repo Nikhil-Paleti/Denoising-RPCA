{
 "cells": [
  {
   "cell_type": "code",
   "execution_count": 1,
   "id": "014ce8a0-f257-4b69-9202-21b3f75c89b1",
   "metadata": {},
   "outputs": [],
   "source": [
    "import numpy as np\n",
    "import pandas as pd \n",
    "import matplotlib.pyplot as plt "
   ]
  },
  {
   "cell_type": "code",
   "execution_count": 2,
   "id": "e749fc01-9d09-48d3-8803-dbfd0ceb5f0f",
   "metadata": {},
   "outputs": [],
   "source": [
    "import seaborn as sns"
   ]
  },
  {
   "cell_type": "code",
   "execution_count": 3,
   "id": "7e152c32-4889-4e31-af3f-dfc041638c37",
   "metadata": {},
   "outputs": [
    {
     "data": {
      "text/html": [
       "<div>\n",
       "<style scoped>\n",
       "    .dataframe tbody tr th:only-of-type {\n",
       "        vertical-align: middle;\n",
       "    }\n",
       "\n",
       "    .dataframe tbody tr th {\n",
       "        vertical-align: top;\n",
       "    }\n",
       "\n",
       "    .dataframe thead th {\n",
       "        text-align: right;\n",
       "    }\n",
       "</style>\n",
       "<table border=\"1\" class=\"dataframe\">\n",
       "  <thead>\n",
       "    <tr style=\"text-align: right;\">\n",
       "      <th></th>\n",
       "      <th>mortality</th>\n",
       "      <th>fertility</th>\n",
       "    </tr>\n",
       "    <tr>\n",
       "      <th>country</th>\n",
       "      <th></th>\n",
       "      <th></th>\n",
       "    </tr>\n",
       "  </thead>\n",
       "  <tbody>\n",
       "    <tr>\n",
       "      <th>Afghanistan</th>\n",
       "      <td>6.470</td>\n",
       "      <td>4.48</td>\n",
       "    </tr>\n",
       "    <tr>\n",
       "      <th>Angola</th>\n",
       "      <td>8.040</td>\n",
       "      <td>5.62</td>\n",
       "    </tr>\n",
       "    <tr>\n",
       "      <th>Albania</th>\n",
       "      <td>0.902</td>\n",
       "      <td>1.71</td>\n",
       "    </tr>\n",
       "    <tr>\n",
       "      <th>United Arab Emirates</th>\n",
       "      <td>0.768</td>\n",
       "      <td>1.73</td>\n",
       "    </tr>\n",
       "    <tr>\n",
       "      <th>Argentina</th>\n",
       "      <td>1.040</td>\n",
       "      <td>2.28</td>\n",
       "    </tr>\n",
       "  </tbody>\n",
       "</table>\n",
       "</div>"
      ],
      "text/plain": [
       "                      mortality  fertility\n",
       "country                                   \n",
       "Afghanistan               6.470       4.48\n",
       "Angola                    8.040       5.62\n",
       "Albania                   0.902       1.71\n",
       "United Arab Emirates      0.768       1.73\n",
       "Argentina                 1.040       2.28"
      ]
     },
     "execution_count": 3,
     "metadata": {},
     "output_type": "execute_result"
    }
   ],
   "source": [
    "\n",
    "cm_path = 'child_mortality_0_5_year_olds_dying_per_1000_born.csv'\n",
    "fe_path = 'children_per_woman_total_fertility.csv'\n",
    "cm = pd.read_csv(cm_path).set_index('country')['2017'].to_frame()/10\n",
    "fe = pd.read_csv(fe_path).set_index('country')['2017'].to_frame()\n",
    "child_data = cm.merge(fe, left_index=True, right_index=True).dropna()\n",
    "child_data.columns = ['mortality', 'fertility']\n",
    "child_data.head()"
   ]
  },
  {
   "cell_type": "code",
   "execution_count": 4,
   "id": "ea0e2a8b-60f0-4bde-bf6e-bfeba6102702",
   "metadata": {},
   "outputs": [
    {
     "data": {
      "text/html": [
       "<div>\n",
       "<style scoped>\n",
       "    .dataframe tbody tr th:only-of-type {\n",
       "        vertical-align: middle;\n",
       "    }\n",
       "\n",
       "    .dataframe tbody tr th {\n",
       "        vertical-align: top;\n",
       "    }\n",
       "\n",
       "    .dataframe thead th {\n",
       "        text-align: right;\n",
       "    }\n",
       "</style>\n",
       "<table border=\"1\" class=\"dataframe\">\n",
       "  <thead>\n",
       "    <tr style=\"text-align: right;\">\n",
       "      <th></th>\n",
       "      <th>mortality</th>\n",
       "      <th>fertility</th>\n",
       "    </tr>\n",
       "    <tr>\n",
       "      <th>country</th>\n",
       "      <th></th>\n",
       "      <th></th>\n",
       "    </tr>\n",
       "  </thead>\n",
       "  <tbody>\n",
       "    <tr>\n",
       "      <th>Afghanistan</th>\n",
       "      <td>3.535167</td>\n",
       "      <td>1.726828</td>\n",
       "    </tr>\n",
       "    <tr>\n",
       "      <th>Angola</th>\n",
       "      <td>5.105167</td>\n",
       "      <td>2.866828</td>\n",
       "    </tr>\n",
       "    <tr>\n",
       "      <th>Albania</th>\n",
       "      <td>-2.032833</td>\n",
       "      <td>-1.043172</td>\n",
       "    </tr>\n",
       "    <tr>\n",
       "      <th>United Arab Emirates</th>\n",
       "      <td>-2.166833</td>\n",
       "      <td>-1.023172</td>\n",
       "    </tr>\n",
       "    <tr>\n",
       "      <th>Argentina</th>\n",
       "      <td>-1.894833</td>\n",
       "      <td>-0.473172</td>\n",
       "    </tr>\n",
       "    <tr>\n",
       "      <th>...</th>\n",
       "      <td>...</td>\n",
       "      <td>...</td>\n",
       "    </tr>\n",
       "    <tr>\n",
       "      <th>Samoa</th>\n",
       "      <td>-1.304833</td>\n",
       "      <td>1.176828</td>\n",
       "    </tr>\n",
       "    <tr>\n",
       "      <th>Yemen</th>\n",
       "      <td>2.565167</td>\n",
       "      <td>1.136828</td>\n",
       "    </tr>\n",
       "    <tr>\n",
       "      <th>South Africa</th>\n",
       "      <td>0.595167</td>\n",
       "      <td>-0.323172</td>\n",
       "    </tr>\n",
       "    <tr>\n",
       "      <th>Zambia</th>\n",
       "      <td>3.005167</td>\n",
       "      <td>2.176828</td>\n",
       "    </tr>\n",
       "    <tr>\n",
       "      <th>Zimbabwe</th>\n",
       "      <td>1.995167</td>\n",
       "      <td>0.926828</td>\n",
       "    </tr>\n",
       "  </tbody>\n",
       "</table>\n",
       "<p>186 rows × 2 columns</p>\n",
       "</div>"
      ],
      "text/plain": [
       "                      mortality  fertility\n",
       "country                                   \n",
       "Afghanistan            3.535167   1.726828\n",
       "Angola                 5.105167   2.866828\n",
       "Albania               -2.032833  -1.043172\n",
       "United Arab Emirates  -2.166833  -1.023172\n",
       "Argentina             -1.894833  -0.473172\n",
       "...                         ...        ...\n",
       "Samoa                 -1.304833   1.176828\n",
       "Yemen                  2.565167   1.136828\n",
       "South Africa           0.595167  -0.323172\n",
       "Zambia                 3.005167   2.176828\n",
       "Zimbabwe               1.995167   0.926828\n",
       "\n",
       "[186 rows x 2 columns]"
      ]
     },
     "execution_count": 4,
     "metadata": {},
     "output_type": "execute_result"
    }
   ],
   "source": [
    "cntr_child = child_data - child_data.mean(axis=0)\n",
    "cntr_child"
   ]
  },
  {
   "cell_type": "code",
   "execution_count": 5,
   "id": "f9579be2-cb9b-45ba-8eb1-29e858314591",
   "metadata": {},
   "outputs": [],
   "source": [
    "svd = np.linalg.svd"
   ]
  },
  {
   "cell_type": "code",
   "execution_count": 6,
   "id": "3d3cd9a6-eaa3-414b-a42b-7720c5ecc42e",
   "metadata": {
    "tags": []
   },
   "outputs": [
    {
     "data": {
      "text/plain": [
       "array([[-0.92818863, -0.37211002],\n",
       "       [ 0.37211002, -0.92818863]])"
      ]
     },
     "execution_count": 6,
     "metadata": {},
     "output_type": "execute_result"
    }
   ],
   "source": [
    "U, S, Vt = svd(cntr_child, full_matrices=False)\n",
    "Vt"
   ]
  },
  {
   "cell_type": "code",
   "execution_count": 7,
   "id": "a3099e7a-a38e-4efb-b75e-8236c380151a",
   "metadata": {},
   "outputs": [
    {
     "data": {
      "image/png": "[encoded data removed]",
      "text/plain": [
       "<Figure size 432x288 with 1 Axes>"
      ]
     },
     "metadata": {
      "needs_background": "light"
     },
     "output_type": "display_data"
    }
   ],
   "source": [
    "sns.scatterplot(data=cntr_child, x='mortality', y='fertility')\n",
    "plt.arrow(0, 0, -3 * Vt[0, 0], -3 * Vt[0, 1], width=0.2, color='red')\n",
    "plt.arrow(0, 0, 3 * Vt[1, 0], 3 * Vt[1, 1], width=0.2, color='purple')\n",
    "plt.gca().set_aspect(1)"
   ]
  },
  {
   "cell_type": "code",
   "execution_count": 35,
   "id": "83ba93ab",
   "metadata": {},
   "outputs": [],
   "source": [
    "def compute_rank_k_approximation(data, k):\n",
    "    centered = data - data.mean(axis=0)\n",
    "    U, S, Vt = np.linalg.svd(centered, full_matrices = False)\n",
    "    approx = (U @ np.diag(S))[:, :k] @ Vt[:k]\n",
    "    return pd.DataFrame(approx, columns = data.columns)"
   ]
  },
  {
   "cell_type": "code",
   "execution_count": 36,
   "id": "dd2b13b0",
   "metadata": {},
   "outputs": [
    {
     "data": {
      "text/html": [
       "<div>\n",
       "<style scoped>\n",
       "    .dataframe tbody tr th:only-of-type {\n",
       "        vertical-align: middle;\n",
       "    }\n",
       "\n",
       "    .dataframe tbody tr th {\n",
       "        vertical-align: top;\n",
       "    }\n",
       "\n",
       "    .dataframe thead th {\n",
       "        text-align: right;\n",
       "    }\n",
       "</style>\n",
       "<table border=\"1\" class=\"dataframe\">\n",
       "  <thead>\n",
       "    <tr style=\"text-align: right;\">\n",
       "      <th></th>\n",
       "      <th>mortality</th>\n",
       "      <th>fertility</th>\n",
       "    </tr>\n",
       "  </thead>\n",
       "  <tbody>\n",
       "    <tr>\n",
       "      <th>0</th>\n",
       "      <td>3.642093</td>\n",
       "      <td>1.460112</td>\n",
       "    </tr>\n",
       "    <tr>\n",
       "      <th>1</th>\n",
       "      <td>5.388444</td>\n",
       "      <td>2.160223</td>\n",
       "    </tr>\n",
       "    <tr>\n",
       "      <th>2</th>\n",
       "      <td>-2.111655</td>\n",
       "      <td>-0.846561</td>\n",
       "    </tr>\n",
       "    <tr>\n",
       "      <th>3</th>\n",
       "      <td>-2.220193</td>\n",
       "      <td>-0.890073</td>\n",
       "    </tr>\n",
       "    <tr>\n",
       "      <th>4</th>\n",
       "      <td>-1.795892</td>\n",
       "      <td>-0.719971</td>\n",
       "    </tr>\n",
       "    <tr>\n",
       "      <th>...</th>\n",
       "      <td>...</td>\n",
       "      <td>...</td>\n",
       "    </tr>\n",
       "    <tr>\n",
       "      <th>181</th>\n",
       "      <td>-0.717696</td>\n",
       "      <td>-0.287724</td>\n",
       "    </tr>\n",
       "    <tr>\n",
       "      <th>182</th>\n",
       "      <td>2.602626</td>\n",
       "      <td>1.043390</td>\n",
       "    </tr>\n",
       "    <tr>\n",
       "      <th>183</th>\n",
       "      <td>0.401137</td>\n",
       "      <td>0.160815</td>\n",
       "    </tr>\n",
       "    <tr>\n",
       "      <th>184</th>\n",
       "      <td>3.340905</td>\n",
       "      <td>1.339366</td>\n",
       "    </tr>\n",
       "    <tr>\n",
       "      <th>185</th>\n",
       "      <td>2.039020</td>\n",
       "      <td>0.817441</td>\n",
       "    </tr>\n",
       "  </tbody>\n",
       "</table>\n",
       "<p>186 rows × 2 columns</p>\n",
       "</div>"
      ],
      "text/plain": [
       "     mortality  fertility\n",
       "0     3.642093   1.460112\n",
       "1     5.388444   2.160223\n",
       "2    -2.111655  -0.846561\n",
       "3    -2.220193  -0.890073\n",
       "4    -1.795892  -0.719971\n",
       "..         ...        ...\n",
       "181  -0.717696  -0.287724\n",
       "182   2.602626   1.043390\n",
       "183   0.401137   0.160815\n",
       "184   3.340905   1.339366\n",
       "185   2.039020   0.817441\n",
       "\n",
       "[186 rows x 2 columns]"
      ]
     },
     "execution_count": 36,
     "metadata": {},
     "output_type": "execute_result"
    }
   ],
   "source": [
    "rank_1 = compute_rank_k_approximation(child_data, 1)\n",
    "rank_1"
   ]
  },
  {
   "cell_type": "code",
   "execution_count": 39,
   "id": "96c83392-d458-4caa-af4f-e6844b988890",
   "metadata": {},
   "outputs": [
    {
     "data": {
      "text/plain": [
       "array([[-0.92818863, -0.37211002],\n",
       "       [ 0.37211002, -0.92818863]])"
      ]
     },
     "execution_count": 39,
     "metadata": {},
     "output_type": "execute_result"
    }
   ],
   "source": [
    "rank_1 = rank_1 - np.mean(rank_1, axis=0)\n",
    "U, S, Vt = svd(rank_1, full_matrices=False)\n",
    "Vt"
   ]
  },
  {
   "cell_type": "code",
   "execution_count": 40,
   "id": "e7952c73",
   "metadata": {},
   "outputs": [
    {
     "data": {
      "image/png": "[encoded data removed]",
      "text/plain": [
       "<Figure size 432x288 with 1 Axes>"
      ]
     },
     "metadata": {
      "needs_background": "light"
     },
     "output_type": "display_data"
    }
   ],
   "source": [
    "sns.scatterplot(data=rank_1, x='mortality', y='fertility')\n",
    "plt.arrow(0, 0, -3 * Vt[0, 0], -3 * Vt[0, 1], width=0.2, color='red')\n",
    "plt.arrow(0, 0, 3 * Vt[1, 0], 3 * Vt[1, 1], width=0.2, color='purple')\n",
    "plt.gca().set_aspect(1)"
   ]
  }
 ],
 "metadata": {
  "kernelspec": {
   "display_name": "Python 3.9.7 ('tf5')",
   "language": "python",
   "name": "python3"
  },
  "language_info": {
   "codemirror_mode": {
    "name": "ipython",
    "version": 3
   },
   "file_extension": ".py",
   "mimetype": "text/x-python",
   "name": "python",
   "nbconvert_exporter": "python",
   "pygments_lexer": "ipython3",
   "version": "3.9.7"
  },
  "vscode": {
   "interpreter": {
    "hash": "3afea5a0badf26b12995868908cb1819a7eda41608da308c490df23ab6f46dd8"
   }
  }
 },
 "nbformat": 4,
 "nbformat_minor": 5
}
